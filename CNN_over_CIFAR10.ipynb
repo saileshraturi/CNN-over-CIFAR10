{
  "nbformat": 4,
  "nbformat_minor": 0,
  "metadata": {
    "colab": {
      "name": "CNN over CIFAR10.ipynb",
      "provenance": [],
      "authorship_tag": "ABX9TyM7TPiOI2yxB1AEM0dpAfmk",
      "include_colab_link": true
    },
    "kernelspec": {
      "name": "python3",
      "display_name": "Python 3"
    },
    "accelerator": "GPU"
  },
  "cells": [
    {
      "cell_type": "markdown",
      "metadata": {
        "id": "view-in-github",
        "colab_type": "text"
      },
      "source": [
        "<a href=\"https://colab.research.google.com/github/saileshraturi/CNN-over-CIFAR10/blob/master/CNN_over_CIFAR10.ipynb\" target=\"_parent\"><img src=\"https://colab.research.google.com/assets/colab-badge.svg\" alt=\"Open In Colab\"/></a>"
      ]
    },
    {
      "cell_type": "code",
      "metadata": {
        "id": "t5HwTClY4OM6",
        "colab_type": "code",
        "colab": {}
      },
      "source": [
        "import tensorflow as tf\n",
        "import numpy as np\n",
        "import matplotlib.pyplot as plt\n",
        "from tensorflow.keras.layers import Input,Conv2D,Dense,Flatten,Dropout\n",
        "from tensorflow.keras.models import Model"
      ],
      "execution_count": 0,
      "outputs": []
    },
    {
      "cell_type": "code",
      "metadata": {
        "id": "tbqCguN04VeO",
        "colab_type": "code",
        "colab": {}
      },
      "source": [
        "CIFAR10 = tf.keras.datasets.cifar10"
      ],
      "execution_count": 0,
      "outputs": []
    },
    {
      "cell_type": "code",
      "metadata": {
        "id": "PZyPFpnY4qQh",
        "colab_type": "code",
        "colab": {
          "base_uri": "https://localhost:8080/",
          "height": 51
        },
        "outputId": "5999a937-e455-4db3-93f7-9517fb917e31"
      },
      "source": [
        "(x_train,y_train),(x_test,y_test) = CIFAR10.load_data()"
      ],
      "execution_count": 3,
      "outputs": [
        {
          "output_type": "stream",
          "text": [
            "Downloading data from https://www.cs.toronto.edu/~kriz/cifar-10-python.tar.gz\n",
            "170500096/170498071 [==============================] - 4s 0us/step\n"
          ],
          "name": "stdout"
        }
      ]
    },
    {
      "cell_type": "code",
      "metadata": {
        "id": "s6hvJnUf4xu2",
        "colab_type": "code",
        "colab": {
          "base_uri": "https://localhost:8080/",
          "height": 34
        },
        "outputId": "5e97c703-e03d-43fc-a9d6-f4ae2195ace5"
      },
      "source": [
        "print(x_train.shape)"
      ],
      "execution_count": 4,
      "outputs": [
        {
          "output_type": "stream",
          "text": [
            "(50000, 32, 32, 3)\n"
          ],
          "name": "stdout"
        }
      ]
    },
    {
      "cell_type": "code",
      "metadata": {
        "id": "y5ttHBYv42j9",
        "colab_type": "code",
        "colab": {
          "base_uri": "https://localhost:8080/",
          "height": 51
        },
        "outputId": "ea1788e7-dc1b-4a3b-caae-7182d169756b"
      },
      "source": [
        "x_train,x_test = x_train/255.0,x_test/255.0\n",
        "y_train,y_test = y_train.flatten(),y_test.flatten()\n",
        "print(x_train.shape)\n",
        "print(y_train.shape)"
      ],
      "execution_count": 5,
      "outputs": [
        {
          "output_type": "stream",
          "text": [
            "(50000, 32, 32, 3)\n",
            "(50000,)\n"
          ],
          "name": "stdout"
        }
      ]
    },
    {
      "cell_type": "code",
      "metadata": {
        "id": "P0CaJsXO5no9",
        "colab_type": "code",
        "colab": {
          "base_uri": "https://localhost:8080/",
          "height": 34
        },
        "outputId": "cc853036-f0bf-464d-d0f8-485d7adf1dcf"
      },
      "source": [
        "#total labels\n",
        "\n",
        "k = len(set(y_train))\n",
        "print(k)\n"
      ],
      "execution_count": 7,
      "outputs": [
        {
          "output_type": "stream",
          "text": [
            "10\n"
          ],
          "name": "stdout"
        }
      ]
    },
    {
      "cell_type": "code",
      "metadata": {
        "id": "hM0oTXqCN63I",
        "colab_type": "code",
        "colab": {}
      },
      "source": [
        "#Build the model\n",
        "i = Input(x_train[0].shape)\n",
        "x = Conv2D(32, (3,3),strides = 2,activation='relu')(i)\n",
        "x = Conv2D(64,(3,3),strides=2,activation='relu')(x)\n",
        "x = Conv2D(128,(3,3),strides=2,activation='relu')(x)\n",
        "x = Flatten()(x)\n",
        "x = Dropout(0.2)(x)\n",
        "x = Dense(1024,activation='relu')(x)\n",
        "x = Dropout(0.2)(x)\n",
        "x = Dense(k,activation='softmax')(x)\n",
        "\n",
        "model = Model(i,x)"
      ],
      "execution_count": 0,
      "outputs": []
    },
    {
      "cell_type": "code",
      "metadata": {
        "id": "6ELRZyh4Ow6s",
        "colab_type": "code",
        "colab": {
          "base_uri": "https://localhost:8080/",
          "height": 527
        },
        "outputId": "32a5b77d-7e47-4560-ee9b-ab843486d67a"
      },
      "source": [
        "#compile and fit the model\n",
        "\n",
        "model.compile(optimizer='adam',loss='sparse_categorical_crossentropy',metrics=['accuracy'])\n",
        "r = model.fit(x_train,y_train, validation_data=(x_test,y_test),epochs = 15)"
      ],
      "execution_count": 9,
      "outputs": [
        {
          "output_type": "stream",
          "text": [
            "Epoch 1/15\n",
            "1563/1563 [==============================] - 5s 3ms/step - loss: 1.5133 - accuracy: 0.4473 - val_loss: 1.2213 - val_accuracy: 0.5621\n",
            "Epoch 2/15\n",
            "1563/1563 [==============================] - 5s 3ms/step - loss: 1.1811 - accuracy: 0.5788 - val_loss: 1.0768 - val_accuracy: 0.6153\n",
            "Epoch 3/15\n",
            "1563/1563 [==============================] - 5s 3ms/step - loss: 1.0232 - accuracy: 0.6348 - val_loss: 1.0020 - val_accuracy: 0.6415\n",
            "Epoch 4/15\n",
            "1563/1563 [==============================] - 5s 3ms/step - loss: 0.9026 - accuracy: 0.6782 - val_loss: 0.9491 - val_accuracy: 0.6616\n",
            "Epoch 5/15\n",
            "1563/1563 [==============================] - 5s 3ms/step - loss: 0.7983 - accuracy: 0.7161 - val_loss: 0.8976 - val_accuracy: 0.6815\n",
            "Epoch 6/15\n",
            "1563/1563 [==============================] - 5s 3ms/step - loss: 0.7121 - accuracy: 0.7477 - val_loss: 0.8688 - val_accuracy: 0.6957\n",
            "Epoch 7/15\n",
            "1563/1563 [==============================] - 5s 3ms/step - loss: 0.6299 - accuracy: 0.7767 - val_loss: 0.8686 - val_accuracy: 0.7021\n",
            "Epoch 8/15\n",
            "1563/1563 [==============================] - 5s 3ms/step - loss: 0.5601 - accuracy: 0.8014 - val_loss: 0.8747 - val_accuracy: 0.7029\n",
            "Epoch 9/15\n",
            "1563/1563 [==============================] - 5s 3ms/step - loss: 0.4952 - accuracy: 0.8244 - val_loss: 0.9103 - val_accuracy: 0.7063\n",
            "Epoch 10/15\n",
            "1563/1563 [==============================] - 5s 3ms/step - loss: 0.4398 - accuracy: 0.8436 - val_loss: 0.9247 - val_accuracy: 0.7054\n",
            "Epoch 11/15\n",
            "1563/1563 [==============================] - 5s 3ms/step - loss: 0.3933 - accuracy: 0.8618 - val_loss: 0.9669 - val_accuracy: 0.7102\n",
            "Epoch 12/15\n",
            "1563/1563 [==============================] - 5s 3ms/step - loss: 0.3581 - accuracy: 0.8728 - val_loss: 0.9967 - val_accuracy: 0.7081\n",
            "Epoch 13/15\n",
            "1563/1563 [==============================] - 5s 3ms/step - loss: 0.3319 - accuracy: 0.8818 - val_loss: 1.0479 - val_accuracy: 0.7027\n",
            "Epoch 14/15\n",
            "1563/1563 [==============================] - 5s 3ms/step - loss: 0.3011 - accuracy: 0.8930 - val_loss: 1.0501 - val_accuracy: 0.7090\n",
            "Epoch 15/15\n",
            "1563/1563 [==============================] - 5s 3ms/step - loss: 0.2764 - accuracy: 0.9030 - val_loss: 1.1518 - val_accuracy: 0.6899\n"
          ],
          "name": "stdout"
        }
      ]
    },
    {
      "cell_type": "code",
      "metadata": {
        "id": "77nP1p1nPPMS",
        "colab_type": "code",
        "colab": {
          "base_uri": "https://localhost:8080/",
          "height": 282
        },
        "outputId": "20b3ad29-3e8b-4997-b64b-84ff0dec9151"
      },
      "source": [
        "#Visualizing Loss and accuracy\n",
        "plt.plot(r.history['loss'],label ='loss')\n",
        "plt.plot(r.history['val_loss'],label = 'Val_loss')\n",
        "plt.legend()\n"
      ],
      "execution_count": 11,
      "outputs": [
        {
          "output_type": "execute_result",
          "data": {
            "text/plain": [
              "<matplotlib.legend.Legend at 0x7f2404784198>"
            ]
          },
          "metadata": {
            "tags": []
          },
          "execution_count": 11
        },
        {
          "output_type": "display_data",
          "data": {
            "image/png": "[encoded data removed]",
            "text/plain": [
              "<Figure size 432x288 with 1 Axes>"
            ]
          },
          "metadata": {
            "tags": [],
            "needs_background": "light"
          }
        }
      ]
    },
    {
      "cell_type": "code",
      "metadata": {
        "id": "13rkpDIWPlwb",
        "colab_type": "code",
        "colab": {
          "base_uri": "https://localhost:8080/",
          "height": 282
        },
        "outputId": "2b64ea7a-c908-4ffa-d991-0c6df1949e28"
      },
      "source": [
        "plt.plot(r.history['accuracy'],label ='accuracy')\n",
        "plt.plot(r.history['val_accuracy'],label = 'Val_accuracy')\n",
        "plt.legend()"
      ],
      "execution_count": 14,
      "outputs": [
        {
          "output_type": "execute_result",
          "data": {
            "text/plain": [
              "<matplotlib.legend.Legend at 0x7f2404738d30>"
            ]
          },
          "metadata": {
            "tags": []
          },
          "execution_count": 14
        },
        {
          "output_type": "display_data",
          "data": {
            "image/png": "[encoded data removed]",
            "text/plain": [
              "<Figure size 432x288 with 1 Axes>"
            ]
          },
          "metadata": {
            "tags": [],
            "needs_background": "light"
          }
        }
      ]
    },
    {
      "cell_type": "code",
      "metadata": {
        "id": "xgNGF3odQCnh",
        "colab_type": "code",
        "colab": {}
      },
      "source": [
        "#Plot confusion matrix\n",
        "from sklearn.metrics import confusion_matrix\n",
        "import numpy as np\n",
        "import itertools\n",
        "import matplotlib.pyplot as plt"
      ],
      "execution_count": 0,
      "outputs": []
    },
    {
      "cell_type": "code",
      "metadata": {
        "id": "H9uPCSeRPrQl",
        "colab_type": "code",
        "colab": {
          "base_uri": "https://localhost:8080/",
          "height": 498
        },
        "outputId": "a4bc0333-248e-41bc-e54f-b333cd76eb7f"
      },
      "source": [
        "def plot_confusion_matrix(cm,classes,\n",
        "                          normalize = False,\n",
        "                          title = 'confusion matrix',\n",
        "                          cmap =plt.cm.Blues):\n",
        "  #This function print and plot the confusion matrix\n",
        "  if normalize:\n",
        "      cm = cm.astype('float') / cm.sum(axis = 1)[:, np.newaxis]\n",
        "      print(\"Normalized confusion matrix\")\n",
        "  else:\n",
        "      print('confusion matrix without normalization')\n",
        "  print(cm)\n",
        "\n",
        "  plt.imshow(cm,interpolation='nearest',cmap=cmap)\n",
        "  plt.title(title)\n",
        "  plt.colorbar()\n",
        "  tick_marks = np.arange(len(classes))\n",
        "  plt.xticks(tick_marks,classes,rotation = 45)\n",
        "  plt.yticks(tick_marks,classes)\n",
        "\n",
        "  fmt ='.2f' if normalize else 'd'\n",
        "  thresh = cm.max() / 2.\n",
        "\n",
        "  for i,j in itertools.product(range(cm.shape[0]), range(cm.shape[1])):\n",
        "      plt.text(j, i, format(cm[i, j],fmt),\n",
        "               horizontalalignment='center',\n",
        "               color = 'white' if cm[i,j] > thresh else 'black')\n",
        "  plt.tight_layout()\n",
        "  plt.ylabel(\"True label\")\n",
        "  plt.xlabel(\"Predicted label\")\n",
        "  plt.show()\n",
        "\n",
        "p_test = model.predict(x_test).argmax(axis =1)\n",
        "cm = confusion_matrix(y_test,p_test)\n",
        "plot_confusion_matrix(cm,list(range(10)))"
      ],
      "execution_count": 16,
      "outputs": [
        {
          "output_type": "stream",
          "text": [
            "confusion matrix without normalization\n",
            "[[714  21  31  11  15   4   6   7 128  63]\n",
            " [ 14 828   1   5   6   2   5   1  46  92]\n",
            " [ 83   8 577  66  64  69  49  42  19  23]\n",
            " [ 28  17  68 480  50 165  40  66  30  56]\n",
            " [ 25   5  91  55 603  49  31 105  23  13]\n",
            " [ 16   9  46 168  42 565  27  84  23  20]\n",
            " [ 11  23  49  84  43  43 696  13  14  24]\n",
            " [ 24   7  25  27  49  44   6 778   4  36]\n",
            " [ 38  36  13  10   8   3   2   4 857  29]\n",
            " [ 29  84   9   9   4   6   3  17  38 801]]\n"
          ],
          "name": "stdout"
        },
        {
          "output_type": "display_data",
          "data": {
            "image/png": "[encoded data removed]",
            "text/plain": [
              "<Figure size 432x288 with 2 Axes>"
            ]
          },
          "metadata": {
            "tags": [],
            "needs_background": "light"
          }
        }
      ]
    },
    {
      "cell_type": "code",
      "metadata": {
        "id": "kfY2djbNP6wV",
        "colab_type": "code",
        "colab": {}
      },
      "source": [
        "#Label Mapping\n",
        "labels = ''' airplane\n",
        "automobile\n",
        "bird\n",
        "cat\n",
        "deer\n",
        "dog\n",
        "frog\n",
        "horse\n",
        "ship\n",
        "truck '''.split()"
      ],
      "execution_count": 0,
      "outputs": []
    },
    {
      "cell_type": "code",
      "metadata": {
        "id": "yZudPY43Qiho",
        "colab_type": "code",
        "colab": {
          "base_uri": "https://localhost:8080/",
          "height": 281
        },
        "outputId": "82f758a0-4c64-4f31-910e-bf4d7cbadc8c"
      },
      "source": [
        "#Show some misclassified examples\n",
        "misclassified_idx = np.where(p_test != y_test)[0]\n",
        "i= np.random.choice(misclassified_idx)\n",
        "plt.imshow(x_test[i])\n",
        "plt.title(\"True Label %s Predicted label %s:\"% (labels[y_test[i]],labels[p_test[i]]));"
      ],
      "execution_count": 24,
      "outputs": [
        {
          "output_type": "display_data",
          "data": {
            "image/png": "[encoded data removed]",
            "text/plain": [
              "<Figure size 432x288 with 1 Axes>"
            ]
          },
          "metadata": {
            "tags": [],
            "needs_background": "light"
          }
        }
      ]
    },
    {
      "cell_type": "code",
      "metadata": {
        "id": "qXNCFGxsQ8Ne",
        "colab_type": "code",
        "colab": {}
      },
      "source": [
        ""
      ],
      "execution_count": 0,
      "outputs": []
    }
  ]
}