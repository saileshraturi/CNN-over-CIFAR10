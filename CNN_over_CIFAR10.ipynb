{
  "nbformat": 4,
  "nbformat_minor": 0,
  "metadata": {
    "colab": {
      "name": "CNN over CIFAR10.ipynb",
      "provenance": [],
      "authorship_tag": "ABX9TyPeCKUug/H9E8pUI+OIUEik",
      "include_colab_link": true
    },
    "kernelspec": {
      "name": "python3",
      "display_name": "Python 3"
    },
    "accelerator": "GPU"
  },
  "cells": [
    {
      "cell_type": "markdown",
      "metadata": {
        "id": "view-in-github",
        "colab_type": "text"
      },
      "source": [
        "<a href=\"https://colab.research.google.com/github/saileshraturi/CNN-over-CIFAR10/blob/master/CNN_over_CIFAR10.ipynb\" target=\"_parent\"><img src=\"https://colab.research.google.com/assets/colab-badge.svg\" alt=\"Open In Colab\"/></a>"
      ]
    },
    {
      "cell_type": "code",
      "metadata": {
        "id": "t5HwTClY4OM6",
        "colab_type": "code",
        "colab": {}
      },
      "source": [
        "import tensorflow as tf\n",
        "import numpy as np\n",
        "import matplotlib.pyplot as plt\n",
        "from tensorflow.keras.layers import Input,Conv2D,Dense,Flatten,Dropout,GlobalMaxPool2D,MaxPooling2D,BatchNormalization\n",
        "from tensorflow.keras.models import Model"
      ],
      "execution_count": 0,
      "outputs": []
    },
    {
      "cell_type": "code",
      "metadata": {
        "id": "tbqCguN04VeO",
        "colab_type": "code",
        "colab": {}
      },
      "source": [
        "CIFAR10 = tf.keras.datasets.cifar10"
      ],
      "execution_count": 0,
      "outputs": []
    },
    {
      "cell_type": "code",
      "metadata": {
        "id": "PZyPFpnY4qQh",
        "colab_type": "code",
        "colab": {
          "base_uri": "https://localhost:8080/",
          "height": 51
        },
        "outputId": "5999a937-e455-4db3-93f7-9517fb917e31"
      },
      "source": [
        "(x_train,y_train),(x_test,y_test) = CIFAR10.load_data()"
      ],
      "execution_count": 3,
      "outputs": [
        {
          "output_type": "stream",
          "text": [
            "Downloading data from https://www.cs.toronto.edu/~kriz/cifar-10-python.tar.gz\n",
            "170500096/170498071 [==============================] - 4s 0us/step\n"
          ],
          "name": "stdout"
        }
      ]
    },
    {
      "cell_type": "code",
      "metadata": {
        "id": "s6hvJnUf4xu2",
        "colab_type": "code",
        "colab": {
          "base_uri": "https://localhost:8080/",
          "height": 34
        },
        "outputId": "5e97c703-e03d-43fc-a9d6-f4ae2195ace5"
      },
      "source": [
        "print(x_train.shape)"
      ],
      "execution_count": 4,
      "outputs": [
        {
          "output_type": "stream",
          "text": [
            "(50000, 32, 32, 3)\n"
          ],
          "name": "stdout"
        }
      ]
    },
    {
      "cell_type": "code",
      "metadata": {
        "id": "y5ttHBYv42j9",
        "colab_type": "code",
        "colab": {
          "base_uri": "https://localhost:8080/",
          "height": 51
        },
        "outputId": "ea1788e7-dc1b-4a3b-caae-7182d169756b"
      },
      "source": [
        "x_train,x_test = x_train/255.0,x_test/255.0\n",
        "y_train,y_test = y_train.flatten(),y_test.flatten()\n",
        "print(x_train.shape)\n",
        "print(y_train.shape)"
      ],
      "execution_count": 5,
      "outputs": [
        {
          "output_type": "stream",
          "text": [
            "(50000, 32, 32, 3)\n",
            "(50000,)\n"
          ],
          "name": "stdout"
        }
      ]
    },
    {
      "cell_type": "code",
      "metadata": {
        "id": "P0CaJsXO5no9",
        "colab_type": "code",
        "colab": {
          "base_uri": "https://localhost:8080/",
          "height": 34
        },
        "outputId": "cc853036-f0bf-464d-d0f8-485d7adf1dcf"
      },
      "source": [
        "#total labels\n",
        "\n",
        "k = len(set(y_train))\n",
        "print(k)\n"
      ],
      "execution_count": 7,
      "outputs": [
        {
          "output_type": "stream",
          "text": [
            "10\n"
          ],
          "name": "stdout"
        }
      ]
    },
    {
      "cell_type": "code",
      "metadata": {
        "id": "hM0oTXqCN63I",
        "colab_type": "code",
        "colab": {}
      },
      "source": [
        "#Build the model\n",
        "i = Input(x_train[0].shape)\n",
        "x = Conv2D(32, (3,3),activation='relu',padding ='same')(i)\n",
        "x = BatchNormalization()(x)\n",
        "x = Conv2D(32, (3,3),activation='relu',padding ='same')(i)\n",
        "x = BatchNormalization()(x)\n",
        "x = MaxPooling2D((2,2))(x)\n",
        "\n",
        "x = Conv2D(64,(3,3),activation='relu',padding ='same')(x)\n",
        "x = BatchNormalization()(x)\n",
        "x = Conv2D(64,(3,3),activation='relu',padding ='same')(x)\n",
        "x = BatchNormalization()(x)\n",
        "x = MaxPooling2D((2,2))(x)\n",
        "\n",
        "x = Conv2D(128,(3,3),activation='relu',padding ='same')(x)\n",
        "x = BatchNormalization()(x)\n",
        "x = Conv2D(128,(3,3),activation='relu',padding ='same')(x)\n",
        "x = BatchNormalization()(x)\n",
        "x = MaxPooling2D((2,2))(x)\n",
        "\n",
        "\n",
        "x = Flatten()(x)\n",
        "x = Dropout(0.2)(x)\n",
        "x = Dense(1024,activation='relu')(x)\n",
        "x = Dropout(0.2)(x)\n",
        "x = Dense(k,activation='softmax')(x)\n",
        "\n",
        "model = Model(i,x)"
      ],
      "execution_count": 0,
      "outputs": []
    },
    {
      "cell_type": "code",
      "metadata": {
        "id": "OzjxKik6YWpx",
        "colab_type": "code",
        "colab": {
          "base_uri": "https://localhost:8080/",
          "height": 1000
        },
        "outputId": "05f8e197-1bf8-4b5f-8094-fee5e228bef1"
      },
      "source": [
        "#Fit with Data Augmentation\n",
        "batch_size = 32\n",
        "data_generator = tf.keras.preprocessing.image.ImageDataGenerator(width_shift_range=0.1,height_shift_range=0.1,horizontal_flip=True)\n",
        "train_generator = data_generator.flow(x_train,y_train,batch_size)\n",
        "steps_per_epoch = x_train.shape[0] // batch_size\n",
        "r = model.fit(train_generator,validation_data=(x_test,y_test),steps_per_epoch=steps_per_epoch,epochs = 50)\n"
      ],
      "execution_count": 46,
      "outputs": [
        {
          "output_type": "stream",
          "text": [
            "Epoch 1/50\n",
            "1562/1562 [==============================] - 25s 16ms/step - loss: 1.5093 - accuracy: 0.4664 - val_loss: 1.1238 - val_accuracy: 0.6017\n",
            "Epoch 2/50\n",
            "1562/1562 [==============================] - 24s 16ms/step - loss: 1.0666 - accuracy: 0.6286 - val_loss: 0.9987 - val_accuracy: 0.6549\n",
            "Epoch 3/50\n",
            "1562/1562 [==============================] - 25s 16ms/step - loss: 0.8783 - accuracy: 0.6979 - val_loss: 0.9568 - val_accuracy: 0.6849\n",
            "Epoch 4/50\n",
            "1562/1562 [==============================] - 25s 16ms/step - loss: 0.7761 - accuracy: 0.7347 - val_loss: 0.7818 - val_accuracy: 0.7351\n",
            "Epoch 5/50\n",
            "1562/1562 [==============================] - 25s 16ms/step - loss: 0.6974 - accuracy: 0.7646 - val_loss: 1.1419 - val_accuracy: 0.6616\n",
            "Epoch 6/50\n",
            "1562/1562 [==============================] - 25s 16ms/step - loss: 0.6443 - accuracy: 0.7823 - val_loss: 0.7064 - val_accuracy: 0.7649\n",
            "Epoch 7/50\n",
            "1562/1562 [==============================] - 25s 16ms/step - loss: 0.5982 - accuracy: 0.7986 - val_loss: 0.6454 - val_accuracy: 0.7799\n",
            "Epoch 8/50\n",
            "1562/1562 [==============================] - 25s 16ms/step - loss: 0.5539 - accuracy: 0.8140 - val_loss: 0.6400 - val_accuracy: 0.7954\n",
            "Epoch 9/50\n",
            "1562/1562 [==============================] - 25s 16ms/step - loss: 0.5252 - accuracy: 0.8213 - val_loss: 0.5705 - val_accuracy: 0.8112\n",
            "Epoch 10/50\n",
            "1562/1562 [==============================] - 25s 16ms/step - loss: 0.5029 - accuracy: 0.8289 - val_loss: 0.5189 - val_accuracy: 0.8259\n",
            "Epoch 11/50\n",
            "1562/1562 [==============================] - 25s 16ms/step - loss: 0.4709 - accuracy: 0.8408 - val_loss: 0.5488 - val_accuracy: 0.8159\n",
            "Epoch 12/50\n",
            "1562/1562 [==============================] - 25s 16ms/step - loss: 0.4500 - accuracy: 0.8473 - val_loss: 0.5292 - val_accuracy: 0.8281\n",
            "Epoch 13/50\n",
            "1562/1562 [==============================] - 25s 16ms/step - loss: 0.4274 - accuracy: 0.8545 - val_loss: 0.4980 - val_accuracy: 0.8351\n",
            "Epoch 14/50\n",
            "1562/1562 [==============================] - 24s 16ms/step - loss: 0.4081 - accuracy: 0.8622 - val_loss: 0.5021 - val_accuracy: 0.8353\n",
            "Epoch 15/50\n",
            "1562/1562 [==============================] - 25s 16ms/step - loss: 0.3955 - accuracy: 0.8656 - val_loss: 0.5827 - val_accuracy: 0.8126\n",
            "Epoch 16/50\n",
            "1562/1562 [==============================] - 25s 16ms/step - loss: 0.3814 - accuracy: 0.8687 - val_loss: 0.5442 - val_accuracy: 0.8237\n",
            "Epoch 17/50\n",
            "1562/1562 [==============================] - 25s 16ms/step - loss: 0.3630 - accuracy: 0.8758 - val_loss: 0.5732 - val_accuracy: 0.8154\n",
            "Epoch 18/50\n",
            "1562/1562 [==============================] - 25s 16ms/step - loss: 0.3546 - accuracy: 0.8775 - val_loss: 0.4887 - val_accuracy: 0.8430\n",
            "Epoch 19/50\n",
            "1562/1562 [==============================] - 25s 16ms/step - loss: 0.3337 - accuracy: 0.8826 - val_loss: 0.4824 - val_accuracy: 0.8437\n",
            "Epoch 20/50\n",
            "1562/1562 [==============================] - 25s 16ms/step - loss: 0.3271 - accuracy: 0.8865 - val_loss: 0.4642 - val_accuracy: 0.8479\n",
            "Epoch 21/50\n",
            "1562/1562 [==============================] - 25s 16ms/step - loss: 0.3151 - accuracy: 0.8921 - val_loss: 0.4765 - val_accuracy: 0.8509\n",
            "Epoch 22/50\n",
            "1562/1562 [==============================] - 25s 16ms/step - loss: 0.3064 - accuracy: 0.8929 - val_loss: 0.4732 - val_accuracy: 0.8426\n",
            "Epoch 23/50\n",
            "1562/1562 [==============================] - 25s 16ms/step - loss: 0.2960 - accuracy: 0.8980 - val_loss: 0.4352 - val_accuracy: 0.8637\n",
            "Epoch 24/50\n",
            "1562/1562 [==============================] - 24s 16ms/step - loss: 0.2834 - accuracy: 0.9024 - val_loss: 0.5045 - val_accuracy: 0.8420\n",
            "Epoch 25/50\n",
            "1562/1562 [==============================] - 25s 16ms/step - loss: 0.2775 - accuracy: 0.9035 - val_loss: 0.4598 - val_accuracy: 0.8580\n",
            "Epoch 26/50\n",
            "1562/1562 [==============================] - 25s 16ms/step - loss: 0.2670 - accuracy: 0.9071 - val_loss: 0.4290 - val_accuracy: 0.8593\n",
            "Epoch 27/50\n",
            "1562/1562 [==============================] - 25s 16ms/step - loss: 0.2642 - accuracy: 0.9099 - val_loss: 0.4576 - val_accuracy: 0.8581\n",
            "Epoch 28/50\n",
            "1562/1562 [==============================] - 24s 16ms/step - loss: 0.2594 - accuracy: 0.9102 - val_loss: 0.4753 - val_accuracy: 0.8542\n",
            "Epoch 29/50\n",
            "1562/1562 [==============================] - 25s 16ms/step - loss: 0.2522 - accuracy: 0.9121 - val_loss: 0.4412 - val_accuracy: 0.8607\n",
            "Epoch 30/50\n",
            "1562/1562 [==============================] - 25s 16ms/step - loss: 0.2423 - accuracy: 0.9146 - val_loss: 0.5923 - val_accuracy: 0.8342\n",
            "Epoch 31/50\n",
            "1562/1562 [==============================] - 25s 16ms/step - loss: 0.2383 - accuracy: 0.9177 - val_loss: 0.4448 - val_accuracy: 0.8579\n",
            "Epoch 32/50\n",
            "1562/1562 [==============================] - 25s 16ms/step - loss: 0.2392 - accuracy: 0.9168 - val_loss: 0.4471 - val_accuracy: 0.8605\n",
            "Epoch 33/50\n",
            "1562/1562 [==============================] - 25s 16ms/step - loss: 0.2295 - accuracy: 0.9214 - val_loss: 0.4648 - val_accuracy: 0.8642\n",
            "Epoch 34/50\n",
            "1562/1562 [==============================] - 25s 16ms/step - loss: 0.2255 - accuracy: 0.9222 - val_loss: 0.4790 - val_accuracy: 0.8570\n",
            "Epoch 35/50\n",
            "1562/1562 [==============================] - 25s 16ms/step - loss: 0.2174 - accuracy: 0.9252 - val_loss: 0.5325 - val_accuracy: 0.8405\n",
            "Epoch 36/50\n",
            "1562/1562 [==============================] - 25s 16ms/step - loss: 0.2145 - accuracy: 0.9258 - val_loss: 0.4944 - val_accuracy: 0.8562\n",
            "Epoch 37/50\n",
            "1562/1562 [==============================] - 25s 16ms/step - loss: 0.2098 - accuracy: 0.9276 - val_loss: 0.4670 - val_accuracy: 0.8606\n",
            "Epoch 38/50\n",
            "1562/1562 [==============================] - 25s 16ms/step - loss: 0.2108 - accuracy: 0.9268 - val_loss: 0.4420 - val_accuracy: 0.8619\n",
            "Epoch 39/50\n",
            "1562/1562 [==============================] - 25s 16ms/step - loss: 0.2029 - accuracy: 0.9303 - val_loss: 0.4617 - val_accuracy: 0.8642\n",
            "Epoch 40/50\n",
            "1562/1562 [==============================] - 25s 16ms/step - loss: 0.1985 - accuracy: 0.9318 - val_loss: 0.5023 - val_accuracy: 0.8638\n",
            "Epoch 41/50\n",
            "1562/1562 [==============================] - 25s 16ms/step - loss: 0.1987 - accuracy: 0.9300 - val_loss: 0.5134 - val_accuracy: 0.8472\n",
            "Epoch 42/50\n",
            "1562/1562 [==============================] - 25s 16ms/step - loss: 0.1928 - accuracy: 0.9333 - val_loss: 0.4548 - val_accuracy: 0.8623\n",
            "Epoch 43/50\n",
            "1562/1562 [==============================] - 25s 16ms/step - loss: 0.1909 - accuracy: 0.9331 - val_loss: 0.4465 - val_accuracy: 0.8734\n",
            "Epoch 44/50\n",
            "1562/1562 [==============================] - 25s 16ms/step - loss: 0.1882 - accuracy: 0.9338 - val_loss: 0.4869 - val_accuracy: 0.8573\n",
            "Epoch 45/50\n",
            "1562/1562 [==============================] - 25s 16ms/step - loss: 0.1845 - accuracy: 0.9359 - val_loss: 0.4733 - val_accuracy: 0.8634\n",
            "Epoch 46/50\n",
            "1562/1562 [==============================] - 25s 16ms/step - loss: 0.1816 - accuracy: 0.9376 - val_loss: 0.4760 - val_accuracy: 0.8667\n",
            "Epoch 47/50\n",
            "1562/1562 [==============================] - 25s 16ms/step - loss: 0.1796 - accuracy: 0.9376 - val_loss: 0.4296 - val_accuracy: 0.8768\n",
            "Epoch 48/50\n",
            "1562/1562 [==============================] - 25s 16ms/step - loss: 0.1761 - accuracy: 0.9388 - val_loss: 0.5271 - val_accuracy: 0.8618\n",
            "Epoch 49/50\n",
            "1562/1562 [==============================] - 25s 16ms/step - loss: 0.1752 - accuracy: 0.9399 - val_loss: 0.4682 - val_accuracy: 0.8699\n",
            "Epoch 50/50\n",
            "1562/1562 [==============================] - 25s 16ms/step - loss: 0.1731 - accuracy: 0.9406 - val_loss: 0.4710 - val_accuracy: 0.8687\n"
          ],
          "name": "stdout"
        }
      ]
    },
    {
      "cell_type": "code",
      "metadata": {
        "id": "6ELRZyh4Ow6s",
        "colab_type": "code",
        "colab": {}
      },
      "source": [
        "#compile and fit the model\n",
        "\n",
        "model.compile(optimizer='adam',loss='sparse_categorical_crossentropy',metrics=['accuracy'])\n",
        "#r = model.fit(x_train,y_train, validation_data=(x_test,y_test),epochs = 15)"
      ],
      "execution_count": 0,
      "outputs": []
    },
    {
      "cell_type": "code",
      "metadata": {
        "id": "77nP1p1nPPMS",
        "colab_type": "code",
        "colab": {
          "base_uri": "https://localhost:8080/",
          "height": 282
        },
        "outputId": "c3341c3c-457d-4aec-e714-9d370b069498"
      },
      "source": [
        "#Visualizing Loss and accuracy\n",
        "plt.plot(r.history['loss'],label ='loss')\n",
        "plt.plot(r.history['val_loss'],label = 'Val_loss')\n",
        "plt.legend()\n"
      ],
      "execution_count": 34,
      "outputs": [
        {
          "output_type": "execute_result",
          "data": {
            "text/plain": [
              "<matplotlib.legend.Legend at 0x7f23dfc8ccf8>"
            ]
          },
          "metadata": {
            "tags": []
          },
          "execution_count": 34
        },
        {
          "output_type": "display_data",
          "data": {
            "image/png": "[encoded data removed]",
            "text/plain": [
              "<Figure size 432x288 with 1 Axes>"
            ]
          },
          "metadata": {
            "tags": [],
            "needs_background": "light"
          }
        }
      ]
    },
    {
      "cell_type": "code",
      "metadata": {
        "id": "13rkpDIWPlwb",
        "colab_type": "code",
        "colab": {
          "base_uri": "https://localhost:8080/",
          "height": 282
        },
        "outputId": "54ed5308-fba4-470a-9396-b6be24946579"
      },
      "source": [
        "plt.plot(r.history['accuracy'],label ='accuracy')\n",
        "plt.plot(r.history['val_accuracy'],label = 'Val_accuracy')\n",
        "plt.legend()"
      ],
      "execution_count": 35,
      "outputs": [
        {
          "output_type": "execute_result",
          "data": {
            "text/plain": [
              "<matplotlib.legend.Legend at 0x7f23dfbc49b0>"
            ]
          },
          "metadata": {
            "tags": []
          },
          "execution_count": 35
        },
        {
          "output_type": "display_data",
          "data": {
            "image/png": "[encoded data removed]",
            "text/plain": [
              "<Figure size 432x288 with 1 Axes>"
            ]
          },
          "metadata": {
            "tags": [],
            "needs_background": "light"
          }
        }
      ]
    },
    {
      "cell_type": "code",
      "metadata": {
        "id": "xgNGF3odQCnh",
        "colab_type": "code",
        "colab": {}
      },
      "source": [
        "#Plot confusion matrix\n",
        "from sklearn.metrics import confusion_matrix\n",
        "import numpy as np\n",
        "import itertools\n",
        "import matplotlib.pyplot as plt"
      ],
      "execution_count": 0,
      "outputs": []
    },
    {
      "cell_type": "code",
      "metadata": {
        "id": "H9uPCSeRPrQl",
        "colab_type": "code",
        "colab": {
          "base_uri": "https://localhost:8080/",
          "height": 498
        },
        "outputId": "126bf846-e304-428e-ffd0-ddc1de01d662"
      },
      "source": [
        "def plot_confusion_matrix(cm,classes,\n",
        "                          normalize = False,\n",
        "                          title = 'confusion matrix',\n",
        "                          cmap =plt.cm.Blues):\n",
        "  #This function print and plot the confusion matrix\n",
        "  if normalize:\n",
        "      cm = cm.astype('float') / cm.sum(axis = 1)[:, np.newaxis]\n",
        "      print(\"Normalized confusion matrix\")\n",
        "  else:\n",
        "      print('confusion matrix without normalization')\n",
        "  print(cm)\n",
        "\n",
        "  plt.imshow(cm,interpolation='nearest',cmap=cmap)\n",
        "  plt.title(title)\n",
        "  plt.colorbar()\n",
        "  tick_marks = np.arange(len(classes))\n",
        "  plt.xticks(tick_marks,classes,rotation = 45)\n",
        "  plt.yticks(tick_marks,classes)\n",
        "\n",
        "  fmt ='.2f' if normalize else 'd'\n",
        "  thresh = cm.max() / 2.\n",
        "\n",
        "  for i,j in itertools.product(range(cm.shape[0]), range(cm.shape[1])):\n",
        "      plt.text(j, i, format(cm[i, j],fmt),\n",
        "               horizontalalignment='center',\n",
        "               color = 'white' if cm[i,j] > thresh else 'black')\n",
        "  plt.tight_layout()\n",
        "  plt.ylabel(\"True label\")\n",
        "  plt.xlabel(\"Predicted label\")\n",
        "  plt.show()\n",
        "\n",
        "p_test = model.predict(x_test).argmax(axis =1)\n",
        "cm = confusion_matrix(y_test,p_test)\n",
        "plot_confusion_matrix(cm,list(range(10)))"
      ],
      "execution_count": 37,
      "outputs": [
        {
          "output_type": "stream",
          "text": [
            "confusion matrix without normalization\n",
            "[[899  10  19  11   6   3  11   3  29   9]\n",
            " [  7 931   2   3   0   0   6   0  17  34]\n",
            " [ 64   4 689  64  41  41  64  15  14   4]\n",
            " [ 30   2  43 638  32 136  70  26  17   6]\n",
            " [ 17   7  49  58 763  24  46  27   9   0]\n",
            " [ 15   3  19 124  34 743  28  28   5   1]\n",
            " [  5   2  21  33  14  17 899   1   8   0]\n",
            " [ 22   2  16  34  37  42   7 825   6   9]\n",
            " [ 49  18   8  10   2   2   4   1 902   4]\n",
            " [ 38  83   9  10   5   4   8   3  33 807]]\n"
          ],
          "name": "stdout"
        },
        {
          "output_type": "display_data",
          "data": {
            "image/png": "[encoded data removed]",
            "text/plain": [
              "<Figure size 432x288 with 2 Axes>"
            ]
          },
          "metadata": {
            "tags": [],
            "needs_background": "light"
          }
        }
      ]
    },
    {
      "cell_type": "code",
      "metadata": {
        "id": "kfY2djbNP6wV",
        "colab_type": "code",
        "colab": {}
      },
      "source": [
        "#Label Mapping\n",
        "labels = ''' airplane\n",
        "automobile\n",
        "bird\n",
        "cat\n",
        "deer\n",
        "dog\n",
        "frog\n",
        "horse\n",
        "ship\n",
        "truck '''.split()"
      ],
      "execution_count": 0,
      "outputs": []
    },
    {
      "cell_type": "code",
      "metadata": {
        "id": "yZudPY43Qiho",
        "colab_type": "code",
        "colab": {
          "base_uri": "https://localhost:8080/",
          "height": 281
        },
        "outputId": "ecc37d3f-7c29-4ec9-a1db-8d5e954684b9"
      },
      "source": [
        "#Show some misclassified examples\n",
        "misclassified_idx = np.where(p_test != y_test)[0]\n",
        "i= np.random.choice(misclassified_idx)\n",
        "plt.imshow(x_test[i])\n",
        "plt.title(\"True Label %s Predicted label %s:\"% (labels[y_test[i]],labels[p_test[i]]));"
      ],
      "execution_count": 40,
      "outputs": [
        {
          "output_type": "display_data",
          "data": {
            "image/png": "[encoded data removed]",
            "text/plain": [
              "<Figure size 432x288 with 1 Axes>"
            ]
          },
          "metadata": {
            "tags": [],
            "needs_background": "light"
          }
        }
      ]
    },
    {
      "cell_type": "code",
      "metadata": {
        "id": "qXNCFGxsQ8Ne",
        "colab_type": "code",
        "colab": {}
      },
      "source": [
        ""
      ],
      "execution_count": 0,
      "outputs": []
    }
  ]
}